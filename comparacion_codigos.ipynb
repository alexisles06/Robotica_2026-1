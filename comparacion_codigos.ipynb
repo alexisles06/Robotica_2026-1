{
  "metadata": {
    "kernelspec": {
      "name": "xpython",
      "display_name": "Python 3.13 (XPython)",
      "language": "python"
    },
    "language_info": {
      "file_extension": ".py",
      "mimetype": "text/x-python",
      "name": "python",
      "version": "3.13.1"
    }
  },
  "nbformat_minor": 5,
  "nbformat": 4,
  "cells": [
    {
      "id": "a5ed04cf-7ce3-423e-b4b6-733f1a3aee62",
      "cell_type": "markdown",
      "source": "# <span style=\"color:rgb(213,80,0)\">Análisis de códigos</span>\nPor Alejandro Islas Escobar\n# Análisis scara_tray_line_py.py\n\nEste código implementa un nodo de ROS 2 en Python que:\n- Publica trayectorias articulares para un robot SCARA.\n- Genera un movimiento **en línea recta** del efector final.\n- Calcula los ángulos articulares mediante **cinemática inversa**.\n",
      "metadata": {}
    },
    {
      "id": "8e3c0208-5c7b-45a2-ab6c-f8bcc27af75d",
      "cell_type": "markdown",
      "source": "En esta primer sección se realiza la importación de librerías que se usan en el código.\n\n- rclpy: Librería de Python para trabajar con ROS 2.\n- Node: Clase base para crear nodos ROS.\n- JointTrajectory / JointTrajectoryPoint: Mensajes estándar para controlar robots con varios grados de libertad.\n- Duration: Especifica tiempos en los mensajes de trayectoria.\n- math: Se usa para el cálculo trigonométrico del modelo cinemático inverso.",
      "metadata": {}
    },
    {
      "id": "b37b499b-f346-408f-bf81-863b3d1f56f6",
      "cell_type": "code",
      "source": "#!/usr/bin/env python3\n\nimport rclpy\nfrom rclpy.node import Node\nfrom trajectory_msgs.msg import JointTrajectory, JointTrajectoryPoint\nfrom builtin_interfaces.msg import Duration\n\nimport time\nfrom math import cos, sin, acos, asin, atan2, sqrt",
      "metadata": {
        "trusted": true
      },
      "outputs": [],
      "execution_count": null
    },
    {
      "id": "95fae5a1-07aa-4fee-be46-df6517f7f220",
      "cell_type": "markdown",
      "source": "Posteriormente iniciamos con la definición del nodo, el cual agrega el nombre las articulaciones del SCARA, la interpolación de ejecución y el tiempo en que debe recorrer la trayectoria.",
      "metadata": {}
    },
    {
      "id": "72d51274-c35b-46b0-b9e0-60081cfe5cb1",
      "cell_type": "code",
      "source": "class ScaraTrayLineNode(Node):\n    def __init__(self):\n        super().__init__(\"scara_tray_line_node\")\n        topic_name = \"/scara_trajectory_controller/joint_trajectory\"\n        self.joints_ = ['link_1_joint', 'link_2_joint', 'link_3_joint']\n        self.lamda_ = 0\n        self.Tiempo_ejec_ = 10",
      "metadata": {
        "trusted": true
      },
      "outputs": [],
      "execution_count": null
    },
    {
      "id": "c4e67c0c-7840-4970-b763-61c52c40984c",
      "cell_type": "markdown",
      "source": "Luego se define un publicador que manda un mensaje del tipo JointTrajectory al tópico especificado. Con un timer ejecuta la función cada segundo y al momento de ejecutarse manda un mensaje indicando que el nodo está activo.",
      "metadata": {}
    },
    {
      "id": "294890d1-cb00-40f2-91c0-3e9b7577836d",
      "cell_type": "code",
      "source": "        self.scara_tray_pub_ = self.create_publisher(\n            JointTrajectory, topic_name, 10)\n        self.tray_timer_ = self.create_timer(\n            1, self.trayectory_cbck)\n        self.get_logger().info(\n            'Scara activo, trayectoria linea recta')\n",
      "metadata": {
        "trusted": true
      },
      "outputs": [],
      "execution_count": null
    },
    {
      "id": "3bea274b-5e81-43e6-9f52-214b1c0c2b39",
      "cell_type": "markdown",
      "source": "Posteriormente se define la función que genera un punto de una trayectoria a cada segundo. Este punto se envía al mensaje JointTrajectory que publicará el nodo.",
      "metadata": {}
    },
    {
      "id": "cbcf1fd0-2658-4007-9a5b-d4ff384c35b0",
      "cell_type": "code",
      "source": "    def trayectory_cbck(self):\n        trayectory_msg = JointTrajectory()\n        trayectory_msg.joint_names = self.joints_\n        point = JointTrajectoryPoint()",
      "metadata": {
        "trusted": true
      },
      "outputs": [],
      "execution_count": null
    },
    {
      "id": "f9164ff2-7c73-4d86-9988-8439b3c1b0ad",
      "cell_type": "markdown",
      "source": "Lo primero que se realiza es definir los puntos iniciales y los puntos finales del efector final, esta función se ejecuta mientras la interpolación sea menor al tiempo para recorrer la trayectoria. Por cada valor lamda, se interpola un punto entre la posición inicial y la final.",
      "metadata": {}
    },
    {
      "id": "5ffd813e-1656-44f4-ac24-a35320f4b0f3",
      "cell_type": "code",
      "source": "        if self.lamda_ <= self.Tiempo_ejec_:\n            #Posición inicial\n            x_1 = 0.1\n            y_1 = 0.6\n            theta_1 = 0\n            #Posición final\n            x_2 = 0.3\n            y_2 = -0.6\n            theta_2 = 1.57\n            #Interpolación entre puntos\n            solucion = invk_sol(self.lamda_, x_1, y_1,theta_1, x_2, y_2,theta_2)",
      "metadata": {
        "trusted": true
      },
      "outputs": [],
      "execution_count": null
    },
    {
      "id": "6a816790-d27d-49a7-b252-88850e4dd758",
      "cell_type": "markdown",
      "source": "Gracias a la interpolación, tenemos la posición en la que debería estar el efector final en cada segundo. Con esta información implementamos la cinématica inversa con la instrucción **point.positions** para obtener los valores (θ₁, θ₂, θ₃) de cada actuador y actualiza estos valores al publicador. Finalmente, el nodo publica el resultado y envía un mensaje al usuario de la posición actual.",
      "metadata": {}
    },
    {
      "id": "c3598b81-8f36-453b-8900-cc96a581ca7e",
      "cell_type": "code",
      "source": "            point.positions = solucion\n            point.time_from_start = Duration(sec=1)\n            trayectory_msg.points.append(point)\n            self.scara_tray_pub_.publish(trayectory_msg)\n            self.get_logger().info(\"Postura actual {}\".format(solucion))\n            time.sleep(2)\n            self.lamda_ += 1",
      "metadata": {
        "trusted": true
      },
      "outputs": [],
      "execution_count": null
    },
    {
      "id": "d6160a82-d7ce-4cb1-8bd4-211ec52aaa66",
      "cell_type": "markdown",
      "source": "En cuanto el valor de interpolación supera el tiempo para cumplir la trayectoria, detiene por completo el movimiento y los actuadores pasan a su posición de reposo.",
      "metadata": {}
    },
    {
      "id": "deb08607-57eb-4dd7-90b1-1434f8321598",
      "cell_type": "code",
      "source": "        elif self.lamda_ > 10:\n            link_1_joint = 0\n            link_2_joint = 0\n            link_3_joint = 0\n            return [float(link_1_joint), float(link_2_joint), float(link_3_joint)]",
      "metadata": {
        "trusted": true
      },
      "outputs": [],
      "execution_count": null
    },
    {
      "id": "b586f6ec-2003-4e05-b69f-f657475e892f",
      "cell_type": "markdown",
      "source": "Para la solución debemos establecer la cinemática inversa del robot, para que al conocer la posición del efector final podamos ajustar los actuadores. Se define una función que primero incluye los parámetros del robot, como la longitud de sus eslabones y el tiempo en que debe recorrer la trayectoria. Esta función necesita recibir los valores del punto inicial y del punto final, con los cuales hace una interpolación lineal de cada punto entre estos dos puntos.",
      "metadata": {}
    },
    {
      "id": "bbab24fb-3d59-4809-b536-37fea8155025",
      "cell_type": "code",
      "source": "def invk_sol(param,x_in, y_in, theta_in, x_fin, y_fin, theta_fin):\n    Tiempo_ejec_ = 10\n    L_1 = 0.5\n    L_2 = 0.5\n    L_3 = 0.3\n    x_P = x_in + (param/Tiempo_ejec_)*(x_fin - x_in)\n    y_P = y_in + (param/Tiempo_ejec_)*(y_fin - y_in)\n    theta_P = theta_in + (param/Tiempo_ejec_)*(theta_fin - theta_in)",
      "metadata": {
        "trusted": true
      },
      "outputs": [],
      "execution_count": null
    },
    {
      "id": "8da1f8ad-67a1-42ea-a7db-4058c05677c4",
      "cell_type": "markdown",
      "source": "Con los datos de la posición, primero se declara la posición del último eslabón o muñeca y a partir de ello se obtiene el ángulo del resto de brazos (θ₁ y θ₂) utilizando la ley de cosenos.",
      "metadata": {}
    },
    {
      "id": "60acefe7-8590-45d7-b6a8-0ade95db89da",
      "cell_type": "code",
      "source": "    x_3 = x_P - L_3*cos(theta_P)\n    y_3 = y_P - L_3*sin(theta_P)\n    theta_2 = acos((pow(x_3, 2)+pow(y_3,2)-pow(L_1, 2)-pow(L_2, 2))/(2*L_1*L_2))\n    beta = atan2(y_3, x_3)\n    psi = acos((pow(x_3, 2)+pow(y_3,2)+pow(L_1, 2)-pow(L_2, 2))/(2*L_1*sqrt(pow(x_3, 2)+pow(y_3,2))))\n    theta_1 = beta - psi\n    ",
      "metadata": {
        "trusted": true
      },
      "outputs": [],
      "execution_count": null
    },
    {
      "id": "b51e07cd-f24b-4a56-b008-f473911ba802",
      "cell_type": "markdown",
      "source": "Para el ángulo del último actuador, simplemente se realiza la diferencia del punto deseado menos los ángulos del resto de actuadores.",
      "metadata": {}
    },
    {
      "id": "44e36da6-44c2-48c8-bcd5-2c4e3af00d13",
      "cell_type": "code",
      "source": "theta_3 = theta_P -theta_1 -theta_2\n    return [float(theta_1), float(theta_2), float(theta_3)]",
      "metadata": {
        "trusted": true
      },
      "outputs": [],
      "execution_count": null
    },
    {
      "id": "6d58911d-339a-4395-9bcd-01c8025d2ef4",
      "cell_type": "markdown",
      "source": "Finalmente, se inicia el entorno de ROS donde el nodo queda en ejecución, con la posibilidad de detenerlo en cualquier momento.",
      "metadata": {}
    },
    {
      "id": "706ac8e5-8c8f-45b4-a3dd-bd382ef27fbe",
      "cell_type": "code",
      "source": "def main(args=None):\n    rclpy.init(args=args)\n    node = ScaraTrayLineNode()\n    rclpy.spin(node)\n    rclpy.shutdown()\n\nif __name__ == \"__main__\":\n    main()",
      "metadata": {
        "trusted": true
      },
      "outputs": [],
      "execution_count": null
    },
    {
      "id": "6b15973c-571b-454b-bc74-99ca8144a36e",
      "cell_type": "markdown",
      "source": "# Análisis dofbot_sequence_py.py\nEste segundo script controla un robot DOFBOT de 5 grados de libertad con su gripper o pinza. Además se simula la **cinemática inversa** y las acciones secuenciales de apertura, cierre y movimientos. El nodo publica mensajes en dos tópicos:\n\n- /dofbot_trajectory_controller/joint_trajectory → movimiento del brazo.\n- /dofbot_gripper_controller/joint_trajectory → apertura y cierre del gripper.\n\nIgualmente, la primer sección del código es la importación de librerias que se usarán en el programa.\n- rclpy: Librería de Python para trabajar con ROS 2.\n- Node: Clase base para crear nodos ROS.\n- JointTrajectory / JointTrajectoryPoint: Mensajes estándar para controlar robots con varios grados de libertad.\n- Duration: Especifica tiempos en los mensajes de trayectoria.\n- math: Se usa para el cálculo trigonométrico del modelo cinemático inverso.",
      "metadata": {}
    },
    {
      "id": "8490f04d-9200-47a4-a4f7-012c206ad26f",
      "cell_type": "code",
      "source": "#!/usr/bin/env python3\nimport rclpy\nfrom rclpy.node import Node\nfrom trajectory_msgs.msg import JointTrajectory, JointTrajectoryPoint\nfrom builtin_interfaces.msg import Duration\nimport time\nfrom math import cos, sin, acos, asin, atan2, sqrt",
      "metadata": {
        "trusted": true
      },
      "outputs": [],
      "execution_count": null
    },
    {
      "id": "0aad4888-423c-432e-9595-93e0c51d3c58",
      "cell_type": "markdown",
      "source": "Posteriormente se inicia la declaración del nodo de control. Aqui se declaran los tópicos para enviar trayectorias del brazo y del gripper.",
      "metadata": {}
    },
    {
      "id": "e9421f5a-95ec-4836-8646-7d9b6718d8f1",
      "cell_type": "code",
      "source": "class DofbotControlNode(Node):\n    def __init__(self):\n        super().__init__(\"dofbot_tray_control_node\")\n        self.lamda_ = 0\n        topic_dofbot_ = \"/dofbot_trajectory_controller/joint_trajectory\"\n        topic_gripper_ = \"/dofbot_gripper_controller/joint_trajectory\"\n        \n        #Crea el publicador del brazo con 5 articulaciones\n        self.dofbot_publisher_ = self.create_publisher(JointTrajectory, topic_dofbot_, 10)\n        self.dofbot_joints_ = ['arm_joint_01', 'arm_joint_02','arm_joint_03', 'arm_joint_04', 'arm_joint_05']\n        \n        #Crea el publicador del gripper con 6 servomotores\n        self.gripper_publisher_ = self.create_publisher(JointTrajectory, topic_gripper_, 10)\n        self.gripper_joints_ = ['grip_joint', 'rfinger_joint_01', 'rfinger_joint_02', 'lfinger_grip_joint_01','lfinger_grip_joint_02', 'lfinger_grip_joint_03']\n        ",
      "metadata": {
        "trusted": true
      },
      "outputs": [],
      "execution_count": null
    },
    {
      "id": "287bbb53-b06e-42da-bbc3-cae4c949ba3e",
      "cell_type": "markdown",
      "source": "Al igual que el anterior programa, se establece un temporizador para que el robot avance cada 0.5 segundos.",
      "metadata": {}
    },
    {
      "id": "2df26d8a-35d6-4d45-bc25-16311d6cc5f7",
      "cell_type": "code",
      "source": "        self.timer_ = self.create_timer(0.5, self.timer_callback)\n        self.get_logger().info('Nodo de control del dofbot en funcionamiento')",
      "metadata": {
        "trusted": true
      },
      "outputs": [],
      "execution_count": null
    },
    {
      "id": "39046be6-99e1-4545-ae17-e4987b398b33",
      "cell_type": "markdown",
      "source": "A continuación, se define la función **timer_callback**, la cual controla la secuencia del robot, utilizando un incremento en *lamda* y realizando una acción diferente para cada valor de la variable. ",
      "metadata": {}
    },
    {
      "id": "6d2f6ead-c644-451a-889b-6704433af2cc",
      "cell_type": "code",
      "source": "    def timer_callback(self):\n        dofbot_msg = JointTrajectory()\n        dofbot_msg.joint_names = self.dofbot_joints_\n        dofbot_point = JointTrajectoryPoint()\n\n        gripper_msg = JointTrajectory()\n        gripper_msg.joint_names = self.gripper_joints_\n        gripper_point = JointTrajectoryPoint()",
      "metadata": {
        "trusted": true
      },
      "outputs": [],
      "execution_count": null
    },
    {
      "id": "4a4b58e1-5e55-4510-a4e6-cc44b48931a1",
      "cell_type": "markdown",
      "source": "Cuando el valor de lamda es 0, o bien el robot está iniciando, se usa la función **gripper_state** para mandar los valores articulares necesarios para tener un el valor que se declara de 1.57, el cual significa que el gripper está abierto a 90°.",
      "metadata": {}
    },
    {
      "id": "9e455a68-088e-4764-a399-56120c8c1e1f",
      "cell_type": "code",
      "source": "        if self.lamda_ == 0:\n            # Open gripper\n            gstate = 1.57\n            gripper_st = gripper_state(gstate)\n            gripper_point.positions = gripper_st\n            gripper_point._time_from_start = Duration(sec=1)\n            gripper_msg.points.append(gripper_point)\n            self.gripper_publisher_.publish(gripper_msg)\n            self.get_logger().info('Gripper open')\n            self.get_logger().info('poture {}'.format(gripper_st))\n            time.sleep(5)\n            self.lamda_ +=1",
      "metadata": {
        "trusted": true
      },
      "outputs": [],
      "execution_count": null
    },
    {
      "id": "46d76599-499c-44f6-9b36-3d029682de18",
      "cell_type": "markdown",
      "source": "Al terminar el paso anterior, a lamda se le aumenta en 1 su valor, lo que lo hace pasar a la siguiente etapa, en la que usando  el mismo comando de **gripper_state** se cierra completamente la pinza del robot.",
      "metadata": {}
    },
    {
      "id": "faba888c-4095-45c2-a56d-04b1f68b9f92",
      "cell_type": "code",
      "source": "        elif self.lamda_ == 1:\n            # Close gripper\n            gstate_2 = 0\n            gripper_st = gripper_state(gstate_2)\n            gripper_point.positions = gripper_st\n            gripper_point._time_from_start = Duration(sec=1)\n            gripper_msg.points.append(gripper_point)\n            self.gripper_publisher_.publish(gripper_msg)\n            self.get_logger().info('Gripper close')\n            self.get_logger().info('poture {}'.format(gripper_st))\n            time.sleep(5)\n            self.lamda_ +=1",
      "metadata": {
        "trusted": true
      },
      "outputs": [],
      "execution_count": null
    },
    {
      "id": "e003155e-98a2-45e1-b254-edaa5aacb2f4",
      "cell_type": "markdown",
      "source": "Cuando lamda aumenta al tercer paso, solo hay una repetición de la apertura de la pinza.",
      "metadata": {}
    },
    {
      "id": "62d0bcf4-fa47-4063-9c27-ec614ecf7700",
      "cell_type": "code",
      "source": "        elif self.lamda_ == 2:\n            # Open gripper\n            gstate = 1.57\n            gripper_st = gripper_state(gstate)\n            gripper_point.positions = gripper_st\n            gripper_point._time_from_start = Duration(sec=1)\n            gripper_msg.points.append(gripper_point)\n            self.gripper_publisher_.publish(gripper_msg)\n            self.get_logger().info('Gripper open')\n            self.get_logger().info('poture {}'.format(gripper_st))\n            time.sleep(5)\n            self.lamda_ +=1",
      "metadata": {
        "trusted": true
      },
      "outputs": [],
      "execution_count": null
    },
    {
      "id": "1f16b1b9-2637-413e-b5c2-d2f64b420bb8",
      "cell_type": "markdown",
      "source": "El siguiente paso a cumplir es un movimiento a unas coordenadas especifícas, por lo que se usa **positions** y **dofbot_ink** para obtener la cinemática inversa y poder mandar al publicador la configuración de los ángulos de nuestros actuadores.",
      "metadata": {}
    },
    {
      "id": "7f3611f4-5620-4eaa-9a7f-9517205db2ad",
      "cell_type": "code",
      "source": "        elif self.lamda_ == 3:\n            #Primera postura\n            x_1 = 0.2\n            y_1 = 0.0\n            z_1 = 0.05\n            theta_p_1 = 3.1416*(3/4)\n            theta_g_1 = 0.0\n            solution_pos = dofbot_ink(x_1, y_1, z_1, theta_p_1, theta_g_1)\n            dofbot_point.positions = solution_pos\n            dofbot_point.time_from_start = Duration(sec=2)\n            dofbot_msg.points.append(dofbot_point)\n            self.dofbot_publisher_.publish(dofbot_msg)\n            self.get_logger().info('poture {}'.format(solution_pos))\n            time.sleep(15)\n            self.lamda_ += 1",
      "metadata": {
        "trusted": true
      },
      "outputs": [],
      "execution_count": null
    },
    {
      "id": "49890c0c-4d13-4abd-a1a8-6830962bbb5b",
      "cell_type": "markdown",
      "source": "El paso 4 vuelva a cerrar la pinza, mientras que los paso 5, 6 y 7 siguen la estructura del paso 3, donde se declaran las posiciones del robot y se usa la función para el cálculo de la cinemática inversa para ajustar los ángulos en las articulaciones.",
      "metadata": {}
    },
    {
      "id": "70092d96-b62d-4d1b-a37e-083883305e5d",
      "cell_type": "code",
      "source": "        elif self.lamda_ == 4:\n            # Close gripper\n            gstate_2 = 0\n            gripper_st = gripper_state(gstate_2)\n            gripper_point.positions = gripper_st\n            gripper_point._time_from_start = Duration(sec=2)\n            gripper_msg.points.append(gripper_point)\n            self.gripper_publisher_.publish(gripper_msg)\n            self.get_logger().info('Gripper close')\n            self.get_logger().info('poture {}'.format(gripper_st))\n            time.sleep(10)\n            self.lamda_ +=1\n\n        elif self.lamda_ == 5:\n            # Segunda postura\n            x_2 = 0.15\n            y_2 = 0.0\n            z_2 = 0.11\n            theta_p_2 = 3.1416*(3/4)\n            theta_g_2 = 0 \n            solution_pos = dofbot_ink(x_2, y_2, z_2, theta_p_2, theta_g_2)\n            dofbot_point.positions = solution_pos\n            dofbot_point.time_from_start = Duration(sec=2)\n            dofbot_msg.points.append(dofbot_point)\n            self.dofbot_publisher_.publish(dofbot_msg)\n            self.get_logger().info('poture {}'.format(solution_pos))\n            time.sleep(15)\n            self.lamda_ += 1\n\n        elif self.lamda_ == 6:\n            # tercer postura\n            x_3 = 0.15\n            y_3 = 0.15\n            z_3 = 0.11\n            theta_p_3 = 3.1416*(3/4) \n            theta_g_3 = 0 \n            solution_pos = dofbot_ink(x_3, y_3, z_3, theta_p_3, theta_g_3)\n            dofbot_point.positions = solution_pos\n            dofbot_point.time_from_start = Duration(sec=2)\n            dofbot_msg.points.append(dofbot_point)\n            self.dofbot_publisher_.publish(dofbot_msg)\n            self.get_logger().info('poture {}'.format(solution_pos))\n            time.sleep(15)\n            self.lamda_ += 1\n\n        elif self.lamda_ == 7:\n            # cuarta postura\n            x_3 = 0.15\n            y_3 = 0.15\n            z_3 = 0.05\n            theta_p_3 = 3.1416*(3/4) \n            theta_g_3 = 0 \n            solution_pos = dofbot_ink(x_3, y_3, z_3, theta_p_3, theta_g_3)\n            dofbot_point.positions = solution_pos\n            dofbot_point.time_from_start = Duration(sec=2)\n            dofbot_msg.points.append(dofbot_point)\n            self.dofbot_publisher_.publish(dofbot_msg)\n            self.get_logger().info('poture {}'.format(solution_pos))\n            time.sleep(15)\n            self.lamda_ += 1",
      "metadata": {
        "trusted": true
      },
      "outputs": [],
      "execution_count": null
    },
    {
      "id": "17b9a092-13f8-432a-a7b4-e43491a0e17f",
      "cell_type": "markdown",
      "source": "Una vez alcanzada la cuarta posición o postura, se vuelve a abrir la pinza en el paso 9.",
      "metadata": {}
    },
    {
      "id": "56d8c385-e7a1-4673-8043-e2caa6704382",
      "cell_type": "code",
      "source": "        elif self.lamda_ == 8:\n            # Open gripper\n            gstate = 1.57\n            gripper_st = gripper_state(gstate)\n            gripper_point.positions = gripper_st\n            gripper_point._time_from_start = Duration(sec=2)\n            gripper_msg.points.append(gripper_point)\n            self.gripper_publisher_.publish(gripper_msg)\n            self.get_logger().info('Gripper open')\n            self.get_logger().info('poture {}'.format(gripper_st))\n            time.sleep(10)\n            self.lamda_ +=1",
      "metadata": {
        "trusted": true
      },
      "outputs": [],
      "execution_count": null
    },
    {
      "id": "6e0793cc-e5e2-4861-ae27-53a70cb5509e",
      "cell_type": "markdown",
      "source": "Como paso final, el robot regresa a su posición inicial, donde los ángulos de las articulaciones pasan a ser 0.",
      "metadata": {}
    },
    {
      "id": "5174bf04-ecaf-431e-aeff-0140a46d9baa",
      "cell_type": "code",
      "source": "        elif self.lamda_ == 9:\n            solution_pos = [ float(0.0), float(0.0), float(0.0), float(0.0), float(0.0)]\n            dofbot_point.positions = solution_pos\n            dofbot_point.time_from_start = Duration(sec=2)\n            dofbot_msg.points.append(dofbot_point)\n            self.dofbot_publisher_.publish(dofbot_msg)\n            self.get_logger().info('poture {}'.format(solution_pos))\n            time.sleep(10)",
      "metadata": {
        "trusted": true
      },
      "outputs": [],
      "execution_count": null
    },
    {
      "id": "0156a707-2cc6-45a4-88bf-fc558a820014",
      "cell_type": "markdown",
      "source": "Como se menciona anteriormente, **dofbot_ink** es la función que tiene el cálculo de la cinemática inversa para obtener la posición de los actuadores. Tiene como parámetros de entrada las coordenadas y ángulos del punto final, además de tener la configuración de las longitudes de los eslabones del motor. Con los parámetros se usa trigonometría y el teorema del coseno para obtener los ángulos de las articulaciones según la posición deseada (x_P, y_P, z_P) y la orientación theta_1_P. Todo de la misma forma que el primer script.",
      "metadata": {}
    },
    {
      "id": "c9ed868e-9478-42fa-bb3d-8a68a8f417de",
      "cell_type": "code",
      "source": "def dofbot_ink(x_P, y_P, z_P, theta_1_P, theta_g):\n    # Parametros\n    z_0_1 = 0.105\n    L_1 = 0.084\n    L_2 = 0.084\n    L_3 = 0.115\n\n    theta_1 = atan2(y_P, x_P)\n    aux_x = sqrt(pow(x_P, 2) + pow(y_P, 2)) - L_3*sin(theta_1_P)\n    aux_z = z_P - z_0_1 -L_3*cos(theta_1_P)\n    norm_4_P = sqrt(pow(aux_z, 2)+pow(aux_x, 2))\n    epsilon = acos(aux_z/norm_4_P)\n    alpha = acos((pow(L_1, 2)+pow(norm_4_P, 2)-pow(L_2, 2))/(2*L_1*norm_4_P))\n    theta_2 = epsilon - alpha\n    theta_3 = 3.1416 - asin((sin(alpha)*sqrt(pow(aux_x, 2) + pow(aux_z, 2)))/(L_2))\n    theta_4 = theta_1_P - theta_2 - theta_3\n    theta_5 = theta_g\n    return [ float(theta_1), float(-theta_2), float(-theta_3), float(-theta_4), float(theta_5)]",
      "metadata": {
        "trusted": true
      },
      "outputs": [],
      "execution_count": null
    },
    {
      "id": "0da076e2-93b8-4e7d-af85-f3052f407071",
      "cell_type": "markdown",
      "source": "La definición de posición del gripper únicamente indica la configuración de los servomotores que componen el gripper para que mantengan la pinza cerrada o abierta segun la geometría en la que están acomodados.",
      "metadata": {}
    },
    {
      "id": "0e3bbad8-06e5-4a43-b7d5-7e32e23e8969",
      "cell_type": "code",
      "source": "def gripper_state(theta):\n    \n    return [float(-theta), float(theta), float(-theta), float(theta), float(-theta), float(theta)]",
      "metadata": {
        "trusted": true
      },
      "outputs": [],
      "execution_count": null
    },
    {
      "id": "63ca6158-4df5-4764-a9f0-3566eb721894",
      "cell_type": "markdown",
      "source": "Finalmente, se inicia el entorno en ROS, se inicializa el nodo y se mantiene en ejecución hasta que se detenga el programa, lo cual se establece con la función **shutdown**.",
      "metadata": {}
    },
    {
      "id": "9a85107e-0066-4c06-88d1-de290cc2de72",
      "cell_type": "code",
      "source": "def main(args=None):\n    rclpy.init(args=args)\n    node = DofbotControlNode()\n    rclpy.spin(node)\n    rclpy.shutdown()\n\nif __name__ == \"__main__\":\n    main()",
      "metadata": {
        "trusted": true
      },
      "outputs": [],
      "execution_count": null
    }
  ]
}